{
  "nbformat": 4,
  "nbformat_minor": 0,
  "metadata": {
    "colab": {
      "provenance": [],
      "authorship_tag": "ABX9TyPoWLZp/Ro0wYsf/KoayXbU",
      "include_colab_link": true
    },
    "kernelspec": {
      "name": "python3",
      "display_name": "Python 3"
    },
    "language_info": {
      "name": "python"
    }
  },
  "cells": [
    {
      "cell_type": "markdown",
      "metadata": {
        "id": "view-in-github",
        "colab_type": "text"
      },
      "source": [
        "<a href=\"https://colab.research.google.com/github/Sari275/my-deep-learning-projects/blob/main/Program_2_Object_Detection_Using_YOLO.ipynb\" target=\"_parent\"><img src=\"https://colab.research.google.com/assets/colab-badge.svg\" alt=\"Open In Colab\"/></a>"
      ]
    },
    {
      "cell_type": "markdown",
      "source": [
        "Import Libraries"
      ],
      "metadata": {
        "id": "dV2G8JcEDBN7"
      }
    },
    {
      "cell_type": "code",
      "execution_count": null,
      "metadata": {
        "id": "-v13MdiHCzq6"
      },
      "outputs": [],
      "source": [
        "from glob import glob\n",
        "import pandas as pd\n",
        "from ultralytics import YOLO"
      ]
    },
    {
      "cell_type": "markdown",
      "source": [
        "Load labels for Training"
      ],
      "metadata": {
        "id": "0tCWvKQGDHXC"
      }
    },
    {
      "cell_type": "code",
      "source": [
        "train = pd.read_csv('/WAVE/projects/CSEN-342-Wi24/data/pr2/train/labels.txt', sep=' ', header=None)\n",
        "valid = pd.read_csv('/WAVE/projects/CSEN-342-Wi24/data/pr2/val/labels.txt', sep=' ', header=None)"
      ],
      "metadata": {
        "id": "k3LLNPhNC8xf"
      },
      "execution_count": null,
      "outputs": []
    },
    {
      "cell_type": "markdown",
      "source": [
        "Get bounding box coordinates"
      ],
      "metadata": {
        "id": "uG1nivN6Drx6"
      }
    },
    {
      "cell_type": "code",
      "source": [
        "train.head()"
      ],
      "metadata": {
        "id": "c8FA2MLEDOU4"
      },
      "execution_count": null,
      "outputs": []
    },
    {
      "cell_type": "markdown",
      "source": [
        "Examine Training and Validation Labels"
      ],
      "metadata": {
        "id": "wqna-KpXD_96"
      }
    },
    {
      "cell_type": "code",
      "source": [
        "train[1] -= 1\n",
        "valid[1] -= 1"
      ],
      "metadata": {
        "id": "dX_q1L50D3FY"
      },
      "execution_count": null,
      "outputs": []
    },
    {
      "cell_type": "markdown",
      "source": [
        "Pixel Normalization"
      ],
      "metadata": {
        "id": "dpU3R0EFEKQo"
      }
    },
    {
      "cell_type": "code",
      "source": [
        "train.loc[:,[2,4] ] = train.loc[:,[2,4]]/960\n",
        "train.loc[:,[3,5]] = train.loc[:,[3,5]]/540\n",
        "valid.loc[:,[2,4]] = valid.loc[:,[2,4]]/960\n",
        "valid.loc[:,[3,5]] = valid.loc[:,[3,5]]/540"
      ],
      "metadata": {
        "id": "TSXshHekETvq"
      },
      "execution_count": null,
      "outputs": []
    },
    {
      "cell_type": "markdown",
      "source": [
        "Image Pre-Processing Steps For Input into YOLO"
      ],
      "metadata": {
        "id": "M28_iFq8Eyak"
      }
    },
    {
      "cell_type": "code",
      "source": [
        "for image_id, rows in train.groupby(0):\n",
        "    rows.loc[:,1:].to_csv(f'dataset/train/labels/{image_id:05d}.txt', sep=' ', header=None, index=False)\n",
        "for image_id, rows in valid.groupby(0):\n",
        "    rows.loc[:,1:].to_csv(f'dataset/val/labels/{image_id:05d}.txt', sep=' ', header=None, index=False)"
      ],
      "metadata": {
        "id": "eyl1-X04E8V6"
      },
      "execution_count": null,
      "outputs": []
    },
    {
      "cell_type": "markdown",
      "source": [
        "Load a pretrained general model for transfer learning"
      ],
      "metadata": {
        "id": "xhAugzbRI6UK"
      }
    },
    {
      "cell_type": "code",
      "source": [
        "model = YOLO('yolov8s.pt')"
      ],
      "metadata": {
        "id": "HbWzWLF4I8LL"
      },
      "execution_count": null,
      "outputs": []
    },
    {
      "cell_type": "markdown",
      "source": [
        "Train the model"
      ],
      "metadata": {
        "id": "x_jU0K-UJB7F"
      }
    },
    {
      "cell_type": "code",
      "source": [
        "results = model.train(data='dataset/data.yaml', epochs=10, imgsz=640)"
      ],
      "metadata": {
        "id": "a-RGsdbMJCfH"
      },
      "execution_count": null,
      "outputs": []
    },
    {
      "cell_type": "markdown",
      "source": [
        "Load the best model"
      ],
      "metadata": {
        "id": "PWyxoQdWJMdq"
      }
    },
    {
      "cell_type": "code",
      "source": [
        "model = YOLO('runs/detect/train18/weights/best.pt')"
      ],
      "metadata": {
        "id": "kpbhWEv-JOIP"
      },
      "execution_count": null,
      "outputs": []
    },
    {
      "cell_type": "markdown",
      "source": [
        "Test the model"
      ],
      "metadata": {
        "id": "P6U-NEwyJSDv"
      }
    },
    {
      "cell_type": "code",
      "source": [
        "results = model('/WAVE/projects/CSEN-342-Wi24/data/pr2/test/images', stream=True)"
      ],
      "metadata": {
        "id": "JMK7WrF9JS9L"
      },
      "execution_count": null,
      "outputs": []
    },
    {
      "cell_type": "markdown",
      "source": [
        "Prepare Images to be passed into generator"
      ],
      "metadata": {
        "id": "3P1SjIs5Jfg5"
      }
    },
    {
      "cell_type": "code",
      "source": [
        "i = 0\n",
        "res = []"
      ],
      "metadata": {
        "id": "Kv5EoT5ZJibj"
      },
      "execution_count": null,
      "outputs": []
    },
    {
      "cell_type": "markdown",
      "source": [
        "Generator goes over each image in test set and makes predictions on each of the test images"
      ],
      "metadata": {
        "id": "U3aXxYWVJzb3"
      }
    },
    {
      "cell_type": "code",
      "source": [
        "for result in results: #\n",
        "    image_id = int(result.path.split('/')[-1].split('.')[0])\n",
        "    #for box in\n",
        "    for xywh, conf, cls in zip(result.boxes.xywhn.cpu().numpy(), result.boxes.conf.cpu().numpy(), result.boxes.cls.cpu().numpy()):\n",
        "        res.append([image_id, int(cls) + 1] + xywh.tolist() + [conf])\n",
        "    i += 1\n",
        "df = pd.DataFrame(res)"
      ],
      "metadata": {
        "id": "_2uTI0RKJ492"
      },
      "execution_count": null,
      "outputs": []
    },
    {
      "cell_type": "markdown",
      "source": [
        "Stores predictions in a single text file"
      ],
      "metadata": {
        "id": "5mAtZtAqK5aO"
      }
    },
    {
      "cell_type": "code",
      "source": [
        "df.to_csv('test.txt', index=False, sep=' ', header=None)"
      ],
      "metadata": {
        "id": "Gw_Ya4YXLRUv"
      },
      "execution_count": null,
      "outputs": []
    }
  ]
}