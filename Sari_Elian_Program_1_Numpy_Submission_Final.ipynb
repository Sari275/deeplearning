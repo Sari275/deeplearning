{
  "cells": [
    {
      "cell_type": "markdown",
      "metadata": {
        "id": "view-in-github",
        "colab_type": "text"
      },
      "source": [
        "<a href=\"https://colab.research.google.com/github/Sari275/my-deep-learning-projects/blob/main/Sari_Elian_Program_1_Numpy_Submission_Final.ipynb\" target=\"_parent\"><img src=\"https://colab.research.google.com/assets/colab-badge.svg\" alt=\"Open In Colab\"/></a>"
      ]
    },
    {
      "cell_type": "markdown",
      "source": [
        "Importing Libraries"
      ],
      "metadata": {
        "id": "FjPSdn-y0xOP"
      }
    },
    {
      "cell_type": "code",
      "execution_count": null,
      "metadata": {
        "id": "dtVPjWB5uPsu"
      },
      "outputs": [],
      "source": [
        "import numpy as np\n",
        "from sklearn.metrics import matthews_corrcoef, accuracy_score\n",
        "from sklearn.feature_extraction.text import CountVectorizer\n",
        "from sklearn.model_selection import train_test_split\n",
        "from sklearn.preprocessing import StandardScaler\n",
        "import pandas as pd"
      ]
    },
    {
      "cell_type": "markdown",
      "source": [
        "Reading Training and Testing Files"
      ],
      "metadata": {
        "id": "jGwqqlBo02K5"
      }
    },
    {
      "cell_type": "code",
      "execution_count": null,
      "metadata": {
        "id": "QiXFoTl8vf6A",
        "colab": {
          "base_uri": "https://localhost:8080/"
        },
        "outputId": "c765a001-6fa1-4a4e-9347-fc7bdffd84d6"
      },
      "outputs": [
        {
          "output_type": "stream",
          "name": "stdout",
          "text": [
            "(1566, 2) (392, 1)\n"
          ]
        }
      ],
      "source": [
        "train_path = \"/content/train.dat\"\n",
        "test_path = \"/content/test.dat\"\n",
        "train_data = pd.read_csv(train_path, header=None, sep='\\t')\n",
        "test_data = pd.read_csv(test_path,header=None, sep='\\t')\n",
        "print(train_data.shape, test_data.shape)"
      ]
    },
    {
      "cell_type": "markdown",
      "source": [
        "Visualizing data"
      ],
      "metadata": {
        "id": "-gIItT-R3sOL"
      }
    },
    {
      "cell_type": "code",
      "source": [
        "train_data[0].value_counts()"
      ],
      "metadata": {
        "colab": {
          "base_uri": "https://localhost:8080/"
        },
        "id": "_hWb4MAF6MIM",
        "outputId": "d0b2a3c0-cc03-4952-82fa-4fb987fec4a8"
      },
      "execution_count": null,
      "outputs": [
        {
          "output_type": "execute_result",
          "data": {
            "text/plain": [
              "-1    1424\n",
              " 1     142\n",
              "Name: 0, dtype: int64"
            ]
          },
          "metadata": {},
          "execution_count": 5
        }
      ]
    },
    {
      "cell_type": "code",
      "execution_count": null,
      "metadata": {
        "id": "7eWqodcovn1b"
      },
      "outputs": [],
      "source": [
        "peptide = train_data[1].values\n",
        "y = 1*(train_data[0].values > 0)"
      ]
    },
    {
      "cell_type": "markdown",
      "source": [
        "Cross-Validation"
      ],
      "metadata": {
        "id": "KOzLRuQj3xX4"
      }
    },
    {
      "cell_type": "code",
      "source": [
        "pep_train, pep_valid, y_train, y_valid = train_test_split(peptide, y, random_state=21, test_size=0.2, stratify=y)"
      ],
      "metadata": {
        "id": "65RPT0hF6qjW"
      },
      "execution_count": null,
      "outputs": []
    },
    {
      "cell_type": "code",
      "source": [
        "pep_train[0].split()\n"
      ],
      "metadata": {
        "colab": {
          "base_uri": "https://localhost:8080/"
        },
        "id": "DWwwVgRkkiOS",
        "outputId": "89e1342d-db3b-4010-9985-2964123b094f"
      },
      "execution_count": null,
      "outputs": [
        {
          "output_type": "execute_result",
          "data": {
            "text/plain": [
              "['LLKEDNMGFSFHITTIYEGKDFDMHYQNHLES']"
            ]
          },
          "metadata": {},
          "execution_count": 8
        }
      ]
    },
    {
      "cell_type": "code",
      "source": [
        "list(peptide[0])"
      ],
      "metadata": {
        "colab": {
          "base_uri": "https://localhost:8080/"
        },
        "id": "trE_ovm8pr6H",
        "outputId": "1df5d1c3-aa65-48a3-c45a-28c3e148e4c8"
      },
      "execution_count": null,
      "outputs": [
        {
          "output_type": "execute_result",
          "data": {
            "text/plain": [
              "['D', 'V', 'E', 'L', 'D', 'L', 'V', 'E', 'I', 'S', 'P', 'N', 'A', 'L', 'P']"
            ]
          },
          "metadata": {},
          "execution_count": 66
        }
      ]
    },
    {
      "cell_type": "markdown",
      "source": [
        "Bag of Words"
      ],
      "metadata": {
        "id": "dFui7Twt304D"
      }
    },
    {
      "cell_type": "code",
      "execution_count": null,
      "metadata": {
        "id": "uQ_hlX70vq78",
        "colab": {
          "base_uri": "https://localhost:8080/"
        },
        "outputId": "a37b84aa-d238-4b3f-98ea-5c123ce627e0"
      },
      "outputs": [
        {
          "output_type": "stream",
          "name": "stderr",
          "text": [
            "/usr/local/lib/python3.10/dist-packages/sklearn/feature_extraction/text.py:528: UserWarning: The parameter 'token_pattern' will not be used since 'tokenizer' is not None'\n",
            "  warnings.warn(\n"
          ]
        }
      ],
      "source": [
        "vec = CountVectorizer(tokenizer=lambda g: list(g), ngram_range=(1,2))\n",
        "X_train = vec.fit_transform(pep_train).toarray()\n",
        "X_valid = vec.transform(pep_valid).toarray()"
      ]
    },
    {
      "cell_type": "markdown",
      "source": [
        "Scaling Training data"
      ],
      "metadata": {
        "id": "otSENXcJ33-T"
      }
    },
    {
      "cell_type": "code",
      "source": [
        "sc = StandardScaler()\n",
        "X_train = sc.fit_transform(X_train)\n",
        "X_valid = sc.transform(X_valid)"
      ],
      "metadata": {
        "id": "-QYCz-ZzC5Yo"
      },
      "execution_count": null,
      "outputs": []
    },
    {
      "cell_type": "markdown",
      "source": [
        "Visualizing Feature Shapes"
      ],
      "metadata": {
        "id": "MmwanZTk4Cqr"
      }
    },
    {
      "cell_type": "code",
      "source": [
        "X_train.shape, X_valid.shape"
      ],
      "metadata": {
        "colab": {
          "base_uri": "https://localhost:8080/"
        },
        "id": "sFbaWT5y8SNu",
        "outputId": "32563497-e777-4bfd-8498-182800231934"
      },
      "execution_count": null,
      "outputs": [
        {
          "output_type": "execute_result",
          "data": {
            "text/plain": [
              "((1252, 427), (314, 427))"
            ]
          },
          "metadata": {},
          "execution_count": 69
        }
      ]
    },
    {
      "cell_type": "markdown",
      "source": [
        "Desining Neural Network"
      ],
      "metadata": {
        "id": "wNCPsG4l4Gil"
      }
    },
    {
      "cell_type": "code",
      "source": [
        "def sigmoid(x):\n",
        "    return 1 / (1 + np.exp(-x))\n",
        "\n",
        "def sigmoid_derivative(x):\n",
        "    return x * (1 - x)\n",
        "\n",
        "def initialize_parameters(input_size, hidden_size, output_size):\n",
        "    np.random.seed(42)\n",
        "    W1 = np.random.randn(hidden_size,input_size)* 0.01\n",
        "    b1 = np.zeros((hidden_size,1))\n",
        "    W2 = np.random.randn(output_size,hidden_size) * 0.01\n",
        "    b2 = np.zeros((output_size,1))\n",
        "    return W1, b1, W2, b2\n",
        "\n",
        "def forward_propagation(X, W1, b1, W2, b2):\n",
        "    Z1 = (W1 @ X.T + b1).T\n",
        "    A1 = sigmoid(Z1)\n",
        "    Z2 = (W2 @ A1.T + b2).T\n",
        "    A2 = sigmoid(Z2)\n",
        "\n",
        "    return Z1, A1, Z2, A2\n",
        "\n",
        "def compute_loss(A2, Y):\n",
        "    logprobs =  -np.log(A2)*Y - np.log(1 - A2)*(1 - Y)\n",
        "    return logprobs.mean()\n",
        "\n",
        "def backward_propagation(X, y, Z1, A1, Z2, A2, W1, W2, b1, b2):\n",
        "    m = X.shape[0]\n",
        "    #print(X.shape, y.shape, Z1.shape, A1.shape, Z2.shape, A2.shape, W1.shape, W2.shape, b1.shape, b2.shape)\n",
        "    dZ2 = A2 - y\n",
        "    dW2 = np.dot(A1.T, dZ2) / m\n",
        "    #print(dW2.shape)\n",
        "    db2 = np.sum(dZ2, axis=0, keepdims=True) / m\n",
        "    #print(db2.shape)\n",
        "    dZ1 = np.dot(dZ2, W2) * sigmoid_derivative(A1)\n",
        "    #print(dZ1.shape)\n",
        "    dW1 = np.dot(X.T, dZ1) / m\n",
        "    #print(dW1.shape)\n",
        "    db1 = np.sum(dZ1, axis=0, keepdims=True) / m\n",
        "    #print(db1.shape)\n",
        "    return dW1.T, db1.T, dW2.T, db2.T\n",
        "\n",
        "def update_parameters(W1, b1, W2, b2, dW1, db1, dW2, db2, learning_rate):\n",
        "    W1 -= learning_rate * dW1\n",
        "    b1 -= learning_rate * db1\n",
        "    W2 -= learning_rate * dW2\n",
        "    b2 -= learning_rate * db2\n",
        "    return W1, b1, W2, b2\n",
        "#backward_propagation(X_train, y_train, Z1, A1, Z2, A2, W1, W2, b1, b2);"
      ],
      "metadata": {
        "id": "4vwBqWm4o1s4"
      },
      "execution_count": null,
      "outputs": []
    },
    {
      "cell_type": "code",
      "source": [
        "pd.Series(y).value_counts(1)"
      ],
      "metadata": {
        "colab": {
          "base_uri": "https://localhost:8080/"
        },
        "id": "5lTluE5FBDUV",
        "outputId": "9705f06f-988e-463a-a11d-cf817fb2d122"
      },
      "execution_count": null,
      "outputs": [
        {
          "output_type": "execute_result",
          "data": {
            "text/plain": [
              "0    0.909323\n",
              "1    0.090677\n",
              "dtype: float64"
            ]
          },
          "metadata": {},
          "execution_count": 71
        }
      ]
    },
    {
      "cell_type": "markdown",
      "source": [
        "Training the Model"
      ],
      "metadata": {
        "id": "hxh_c-Vs4QbM"
      }
    },
    {
      "cell_type": "code",
      "source": [
        "\n",
        "# Reshape y to be a column vector\n",
        "Y_train = y_train.reshape(-1, 1)\n",
        "\n",
        "# Neural network parameters\n",
        "input_size = X_train.shape[1]\n",
        "hidden_size = 128\n",
        "output_size = Y_train.shape[1]\n",
        "learning_rate = 0.01\n",
        "epochs = 5000\n",
        "\n",
        "# Initialize parameters\n",
        "W1, b1, W2, b2 = initialize_parameters(input_size, hidden_size, output_size)\n",
        "\n",
        "# Training loop\n",
        "for epoch in range(epochs):\n",
        "    # Forward propagation\n",
        "    Z1, A1, Z2, A2 = forward_propagation(X_train, W1, b1, W2, b2)\n",
        "\n",
        "    # Compute loss\n",
        "    loss = compute_loss(A2, Y_train)\n",
        "\n",
        "    # Backward propagation\n",
        "    dW1, db1, dW2, db2 = backward_propagation(X_train, Y_train, Z1, A1, Z2, A2, W1, W2, b1, b2)\n",
        "\n",
        "    # Update parameters\n",
        "    W1, b1, W2, b2 = update_parameters(W1, b1, W2, b2, dW1, db1, dW2, db2, learning_rate)\n",
        "\n",
        "    # Print the loss every 100 epochs\n",
        "    if epoch % 200 == 0:\n",
        "        print(f\"Epoch {epoch}, Loss: {loss}\")"
      ],
      "metadata": {
        "colab": {
          "base_uri": "https://localhost:8080/"
        },
        "id": "jUSmpGNL7iUE",
        "outputId": "41c85d02-b820-4d2f-9b63-4ae5b33bf27f"
      },
      "execution_count": null,
      "outputs": [
        {
          "output_type": "stream",
          "name": "stdout",
          "text": [
            "Epoch 0, Loss: 0.6973594843608308\n",
            "Epoch 200, Loss: 0.29972115641461056\n",
            "Epoch 400, Loss: 0.2944392058395729\n",
            "Epoch 600, Loss: 0.2888241117426566\n",
            "Epoch 800, Loss: 0.2826781133029575\n",
            "Epoch 1000, Loss: 0.2757686305872609\n",
            "Epoch 1200, Loss: 0.2678242455553495\n",
            "Epoch 1400, Loss: 0.2585462728896432\n",
            "Epoch 1600, Loss: 0.24764426632986133\n",
            "Epoch 1800, Loss: 0.23490597078772354\n",
            "Epoch 2000, Loss: 0.2203051723789668\n",
            "Epoch 2200, Loss: 0.204122718596291\n",
            "Epoch 2400, Loss: 0.1870048723970134\n",
            "Epoch 2600, Loss: 0.16986126276236957\n",
            "Epoch 2800, Loss: 0.153600323069213\n",
            "Epoch 3000, Loss: 0.13886240088323507\n",
            "Epoch 3200, Loss: 0.12592093203466692\n",
            "Epoch 3400, Loss: 0.11475512494726144\n",
            "Epoch 3600, Loss: 0.10518267966199868\n",
            "Epoch 3800, Loss: 0.09696672303933523\n",
            "Epoch 4000, Loss: 0.08987592649340176\n",
            "Epoch 4200, Loss: 0.08370947092647006\n",
            "Epoch 4400, Loss: 0.07830269568290303\n",
            "Epoch 4600, Loss: 0.07352418517326278\n",
            "Epoch 4800, Loss: 0.06927002162272529\n"
          ]
        }
      ]
    },
    {
      "cell_type": "markdown",
      "source": [
        "Making prediction on Validation Set"
      ],
      "metadata": {
        "id": "kpb6Hr5D4TQF"
      }
    },
    {
      "cell_type": "code",
      "execution_count": null,
      "metadata": {
        "id": "PQh9qd_KNR2Y",
        "colab": {
          "base_uri": "https://localhost:8080/"
        },
        "outputId": "ce4532a3-38ad-4623-ac52-67a5a352f8b4"
      },
      "outputs": [
        {
          "output_type": "stream",
          "name": "stdout",
          "text": [
            "MCC: 0.7661526500553661\n",
            "Accuracy: 0.964968152866242\n"
          ]
        }
      ],
      "source": [
        "_, _, _, y_prob = forward_propagation(X_valid, W1, b1, W2, b2)\n",
        "y_pred = 1*(y_prob > 0.5)\n",
        "print('MCC:',matthews_corrcoef(y_valid, y_pred))\n",
        "print('Accuracy:',accuracy_score(y_valid, y_pred))"
      ]
    },
    {
      "cell_type": "markdown",
      "source": [
        "Scaling Test Data"
      ],
      "metadata": {
        "id": "p0O3sjMx4dcR"
      }
    },
    {
      "cell_type": "code",
      "source": [
        "X_test = vec.transform(test_data[0].values).toarray()\n",
        "X_test = sc.transform(X_test)"
      ],
      "metadata": {
        "id": "kd06NcUwhDpg"
      },
      "execution_count": null,
      "outputs": []
    },
    {
      "cell_type": "markdown",
      "source": [
        "Predicting Test labels"
      ],
      "metadata": {
        "id": "ggNu4Q364gnB"
      }
    },
    {
      "cell_type": "code",
      "source": [
        "_, _, _, y_prob = forward_propagation(X_test, W1, b1, W2, b2)\n",
        "y_test = 1*(y_prob.ravel() > 0.5)\n",
        "y_test[y_test == 0] = -1\n"
      ],
      "metadata": {
        "id": "lweb1Mdlhj2X"
      },
      "execution_count": null,
      "outputs": []
    },
    {
      "cell_type": "code",
      "source": [
        "_, _, _, a = forward_propagation(X_test, W1, b1, W2, b2)\n",
        "a.shape, a.ravel().shape"
      ],
      "metadata": {
        "colab": {
          "base_uri": "https://localhost:8080/"
        },
        "id": "8rwmkL4nA0HK",
        "outputId": "e4c6f7bb-54a1-42de-f625-6fe600bc9eaa"
      },
      "execution_count": null,
      "outputs": [
        {
          "output_type": "execute_result",
          "data": {
            "text/plain": [
              "((392, 1), (392,))"
            ]
          },
          "metadata": {},
          "execution_count": 76
        }
      ]
    },
    {
      "cell_type": "code",
      "source": [
        "y_test"
      ],
      "metadata": {
        "colab": {
          "base_uri": "https://localhost:8080/"
        },
        "id": "XBlc-mFc5yhd",
        "outputId": "c58216ca-dbfb-41f3-efd7-ad554e3799a4"
      },
      "execution_count": null,
      "outputs": [
        {
          "output_type": "execute_result",
          "data": {
            "text/plain": [
              "array([-1, -1,  1, -1, -1, -1,  1, -1, -1,  1, -1,  1, -1, -1, -1,  1, -1,\n",
              "       -1,  1, -1, -1, -1, -1, -1, -1,  1, -1, -1, -1, -1, -1, -1, -1, -1,\n",
              "       -1,  1, -1, -1, -1, -1, -1, -1, -1, -1, -1, -1, -1, -1, -1,  1, -1,\n",
              "       -1, -1, -1, -1, -1, -1, -1, -1, -1, -1, -1,  1, -1, -1, -1, -1, -1,\n",
              "       -1, -1, -1, -1, -1, -1, -1, -1, -1, -1, -1, -1,  1, -1, -1, -1, -1,\n",
              "       -1, -1, -1, -1, -1, -1, -1, -1, -1, -1, -1, -1, -1, -1, -1, -1, -1,\n",
              "       -1, -1, -1, -1, -1, -1, -1, -1, -1, -1, -1, -1, -1, -1, -1, -1, -1,\n",
              "       -1, -1, -1, -1, -1, -1, -1, -1, -1, -1,  1, -1, -1, -1, -1, -1, -1,\n",
              "       -1, -1, -1, -1, -1, -1, -1, -1, -1, -1, -1, -1, -1, -1, -1, -1, -1,\n",
              "       -1, -1, -1, -1, -1, -1, -1, -1, -1, -1, -1, -1,  1, -1, -1, -1, -1,\n",
              "       -1, -1, -1, -1, -1, -1,  1, -1, -1, -1, -1, -1, -1, -1, -1, -1, -1,\n",
              "       -1, -1, -1, -1, -1,  1, -1, -1, -1,  1, -1,  1, -1, -1, -1, -1, -1,\n",
              "       -1,  1, -1,  1, -1, -1,  1, -1,  1, -1, -1, -1, -1, -1, -1, -1, -1,\n",
              "       -1, -1, -1, -1, -1, -1, -1, -1, -1, -1, -1, -1, -1, -1, -1, -1, -1,\n",
              "       -1, -1, -1, -1, -1, -1, -1, -1, -1, -1, -1, -1, -1, -1, -1, -1,  1,\n",
              "       -1, -1, -1, -1, -1, -1, -1, -1, -1, -1, -1, -1, -1, -1, -1, -1, -1,\n",
              "       -1, -1,  1, -1, -1, -1, -1, -1, -1, -1, -1, -1, -1, -1,  1, -1, -1,\n",
              "       -1, -1, -1, -1, -1, -1, -1, -1, -1, -1, -1, -1, -1, -1, -1, -1, -1,\n",
              "       -1, -1, -1, -1, -1, -1, -1, -1, -1, -1, -1,  1, -1,  1, -1, -1, -1,\n",
              "       -1, -1, -1, -1, -1, -1, -1, -1, -1, -1, -1, -1,  1, -1,  1,  1, -1,\n",
              "       -1, -1,  1, -1, -1, -1, -1, -1, -1, -1, -1, -1, -1, -1, -1, -1, -1,\n",
              "       -1, -1, -1, -1, -1, -1, -1, -1, -1, -1, -1, -1, -1, -1, -1, -1, -1,\n",
              "       -1, -1, -1, -1, -1, -1, -1, -1, -1, -1, -1, -1, -1, -1, -1, -1, -1,\n",
              "       -1])"
            ]
          },
          "metadata": {},
          "execution_count": 77
        }
      ]
    },
    {
      "cell_type": "markdown",
      "source": [
        "Creating required 'test.txt' file"
      ],
      "metadata": {
        "id": "pIVltncb5KuK"
      }
    },
    {
      "cell_type": "code",
      "source": [
        "pd.Series(y_test).to_csv('test.txt', index=False, header=None)"
      ],
      "metadata": {
        "id": "E2sezp0XiDpZ"
      },
      "execution_count": null,
      "outputs": []
    }
  ],
  "metadata": {
    "colab": {
      "provenance": [],
      "include_colab_link": true
    },
    "kernelspec": {
      "display_name": "Python 3",
      "name": "python3"
    },
    "language_info": {
      "name": "python"
    }
  },
  "nbformat": 4,
  "nbformat_minor": 0
}